{
 "cells": [
  {
   "cell_type": "markdown",
   "metadata": {},
   "source": [
    "# LetsUpgrade Python Day4"
   ]
  },
  {
   "cell_type": "code",
   "execution_count": 1,
   "metadata": {},
   "outputs": [],
   "source": [
    "# First Armstrong number between 1042000 and 702648265"
   ]
  },
  {
   "cell_type": "code",
   "execution_count": null,
   "metadata": {},
   "outputs": [],
   "source": [
    "def isArmstrong(num):\n",
    "    temp = num\n",
    "    total=0\n",
    "    while temp > 0:\n",
    "        digit = temp % 10\n",
    "        total += digit ** 3\n",
    "        temp //= 10\n",
    "    return(num == total)\n",
    "\n",
    "num=1042000\n",
    "while num in range(1042000,702648265):\n",
    "    if isArmstrong(num):\n",
    "        print(\"The first Armstrong number is : \",num)\n",
    "        break\n",
    "    else:\n",
    "        num += 1"
   ]
  }
 ],
 "metadata": {
  "kernelspec": {
   "display_name": "Python 3",
   "language": "python",
   "name": "python3"
  },
  "language_info": {
   "codemirror_mode": {
    "name": "ipython",
    "version": 3
   },
   "file_extension": ".py",
   "mimetype": "text/x-python",
   "name": "python",
   "nbconvert_exporter": "python",
   "pygments_lexer": "ipython3",
   "version": "3.7.3"
  }
 },
 "nbformat": 4,
 "nbformat_minor": 2
}
