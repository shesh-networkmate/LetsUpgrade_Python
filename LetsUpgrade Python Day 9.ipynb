{
 "cells": [
  {
   "cell_type": "markdown",
   "metadata": {},
   "source": [
    "# LetsUpgrade Python Day 9"
   ]
  },
  {
   "cell_type": "code",
   "execution_count": 1,
   "metadata": {},
   "outputs": [],
   "source": [
    "#Question 1\n",
    "#Write a python Function for finding is a given number prime or not and do Unit Testing on it using PyLint and Unittest Library."
   ]
  },
  {
   "cell_type": "code",
   "execution_count": 2,
   "metadata": {},
   "outputs": [
    {
     "name": "stdout",
     "output_type": "stream",
     "text": [
      "Overwriting isprime.py\n"
     ]
    }
   ],
   "source": [
    "%%writefile isprime.py\n",
    "'''\n",
    "This program can be used to check for prime number\n",
    "'''\n",
    "def isprime(num):\n",
    "    '''\n",
    "    This program is used to check if user entered number is prime or not.\n",
    "    '''\n",
    "    prime = True\n",
    "    for i in range(2, num):\n",
    "        if (num % i) == 0:\n",
    "            prime = False\n",
    "            break\n",
    "    return prime"
   ]
  },
  {
   "cell_type": "code",
   "execution_count": 3,
   "metadata": {},
   "outputs": [
    {
     "name": "stdout",
     "output_type": "stream",
     "text": [
      "\n",
      "--------------------------------------------------------------------\n",
      "\n",
      "Your code has been rated at 10.00/10 (previous run: 10.00/10, +0.00)\n",
      "\n",
      "\n",
      "\n"
     ]
    }
   ],
   "source": [
    "! pylint isprime.py"
   ]
  },
  {
   "cell_type": "code",
   "execution_count": 4,
   "metadata": {},
   "outputs": [
    {
     "name": "stdout",
     "output_type": "stream",
     "text": [
      "Enter a number: 11\n",
      "11  is a prime number\n"
     ]
    },
    {
     "data": {
      "text/plain": [
       "True"
      ]
     },
     "execution_count": 4,
     "metadata": {},
     "output_type": "execute_result"
    }
   ],
   "source": [
    "from isprime import isprime\n",
    "\n",
    "USER_NUM = int(input(\"Enter a number: \"))\n",
    "if isprime(USER_NUM):\n",
    "    print(USER_NUM, \" is a prime number\")\n",
    "else:\n",
    "    print(USER_NUM, \" is NOT a prime number\")\n",
    "    \n",
    "isprime(USER_NUM)"
   ]
  },
  {
   "cell_type": "code",
   "execution_count": 5,
   "metadata": {},
   "outputs": [
    {
     "data": {
      "text/plain": [
       "False"
      ]
     },
     "execution_count": 5,
     "metadata": {},
     "output_type": "execute_result"
    }
   ],
   "source": [
    "USER_NUM = 15\n",
    "isprime(USER_NUM)"
   ]
  },
  {
   "cell_type": "code",
   "execution_count": 10,
   "metadata": {},
   "outputs": [
    {
     "name": "stdout",
     "output_type": "stream",
     "text": [
      "Overwriting testisprime.py\n"
     ]
    }
   ],
   "source": [
    "%%writefile testisprime.py\n",
    "'''\n",
    "This program can be used for test isprime module\n",
    "'''\n",
    "\n",
    "import unittest\n",
    "import isprime\n",
    "\n",
    "class TestIsprime(unittest.TestCase):\n",
    "    '''\n",
    "    This program can be used for test isprime module\n",
    "    '''\n",
    "    def test_uno(self):\n",
    "        '''\n",
    "        This method can be used to test isprime module\n",
    "        '''\n",
    "        num = 11\n",
    "        result = isprime.isprime(num)\n",
    "        self.assertEqual(result, True)\n",
    "\n",
    "\n",
    "if __name__ == \"__main__\":\n",
    "    unittest.main()"
   ]
  },
  {
   "cell_type": "code",
   "execution_count": 8,
   "metadata": {},
   "outputs": [
    {
     "name": "stdout",
     "output_type": "stream",
     "text": [
      "\n",
      "--------------------------------------------------------------------\n",
      "\n",
      "Your code has been rated at 10.00/10 (previous run: 10.00/10, +0.00)\n",
      "\n",
      "\n",
      "\n"
     ]
    }
   ],
   "source": [
    "!pylint testisprime.py"
   ]
  },
  {
   "cell_type": "code",
   "execution_count": 11,
   "metadata": {},
   "outputs": [
    {
     "name": "stderr",
     "output_type": "stream",
     "text": [
      ".\n",
      "----------------------------------------------------------------------\n",
      "Ran 1 test in 0.000s\n",
      "\n",
      "OK\n"
     ]
    }
   ],
   "source": [
    "!python testisprime.py"
   ]
  },
  {
   "cell_type": "code",
   "execution_count": null,
   "metadata": {},
   "outputs": [],
   "source": []
  },
  {
   "cell_type": "code",
   "execution_count": 12,
   "metadata": {},
   "outputs": [],
   "source": [
    "#Question 2\n",
    "#Make a small generator program for returning armstrong numbers in between 1-1000 in a generator object."
   ]
  },
  {
   "cell_type": "code",
   "execution_count": 15,
   "metadata": {},
   "outputs": [],
   "source": [
    "def getArmstrongNum(start_num=1,stop_num=200):\n",
    "    for num in range(start_num,stop_num+1):\n",
    "        temp = num\n",
    "        total=0\n",
    "        order = len(str(num))\n",
    "        while temp > 0:\n",
    "            digit = temp % 10\n",
    "            total += digit ** order\n",
    "            temp //= 10\n",
    "        if num == total:\n",
    "            yield num"
   ]
  },
  {
   "cell_type": "code",
   "execution_count": 19,
   "metadata": {},
   "outputs": [
    {
     "name": "stdout",
     "output_type": "stream",
     "text": [
      "[1, 2, 3, 4, 5, 6, 7, 8, 9, 153]\n"
     ]
    }
   ],
   "source": [
    "print (list(getArmstrongNum()))"
   ]
  },
  {
   "cell_type": "code",
   "execution_count": 20,
   "metadata": {},
   "outputs": [
    {
     "name": "stdout",
     "output_type": "stream",
     "text": [
      "[1, 2, 3, 4, 5, 6, 7, 8, 9, 153, 370, 371, 407]\n"
     ]
    }
   ],
   "source": [
    "print (list(getArmstrongNum(1,1000)))"
   ]
  }
 ],
 "metadata": {
  "kernelspec": {
   "display_name": "Python 3",
   "language": "python",
   "name": "python3"
  },
  "language_info": {
   "codemirror_mode": {
    "name": "ipython",
    "version": 3
   },
   "file_extension": ".py",
   "mimetype": "text/x-python",
   "name": "python",
   "nbconvert_exporter": "python",
   "pygments_lexer": "ipython3",
   "version": "3.7.3"
  }
 },
 "nbformat": 4,
 "nbformat_minor": 2
}
